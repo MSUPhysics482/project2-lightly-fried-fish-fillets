{
 "cells": [
  {
   "cell_type": "code",
   "execution_count": 204,
   "metadata": {
    "collapsed": false,
    "deletable": true,
    "editable": true
   },
   "outputs": [],
   "source": [
    "import matplotlib.pyplot as plt\n",
    "import numpy as np\n",
    "from numpy import math\n",
    "%matplotlib inline\n"
   ]
  },
  {
   "cell_type": "code",
   "execution_count": 251,
   "metadata": {
    "collapsed": false,
    "deletable": true,
    "editable": true
   },
   "outputs": [],
   "source": [
    "#For Now\n",
    "mb=1\n",
    "B=1\n",
    "B2=1.5\n",
    "B3=2\n",
    "B4=2.5\n",
    "mjp3=1.5\n",
    "mjp1=0.5\n",
    "mjn1=-0.5\n",
    "mjn3=-1.5\n",
    "\n",
    "x1=0\n",
    "x2=1\n",
    "\n",
    "x11=np.arange(0,1.1,0.1)\n"
   ]
  },
  {
   "cell_type": "code",
   "execution_count": 252,
   "metadata": {
    "collapsed": false,
    "deletable": true,
    "editable": true
   },
   "outputs": [],
   "source": [
    "lp=1\n",
    "l0=0\n",
    "ln=-1\n",
    "s=0.5\n",
    "j=1.5\n",
    "\n",
    "gl=(1+(j*(j+1)-lp*(lp+1)+s*(s+1))/(2*j*(j+1)))\n",
    "\n"
   ]
  },
  {
   "cell_type": "code",
   "execution_count": 253,
   "metadata": {
    "collapsed": false,
    "deletable": true,
    "editable": true
   },
   "outputs": [],
   "source": [
    "En=0\n",
    "\n",
    "#Calculating the Energy levels of the P3/2 state of Hydrogen.  This is done by calculating the energy at each of the mj states 3/2,1/2,-1/2,-3/2.\n",
    "\n",
    "#B=1\n",
    "EnO3B1=mb*B*mjp3*x2\n",
    "EnO1B1=mb*B*mjp1*x2\n",
    "EnO1nB1=mb*B*mjn1*x2\n",
    "EnO3nB1=mb*B*mjn3*x2\n",
    "\n",
    "EnlP1B1=EnO3B1*gl*x2\n",
    "EnlP2B1=EnO1B1*gl*x2\n",
    "EnlP3B1=EnO1nB1*gl*x2\n",
    "EnlP4B1=EnO3nB1*gl*x2\n",
    "\n",
    "EnlP1lineB1=EnO3B1*gl*x11\n",
    "EnlP2lineB1=EnO1B1*gl*x11\n",
    "EnlP3lineB1=EnO1nB1*gl*x11\n",
    "EnlP4lineB1=EnO3nB1*gl*x11\n",
    "\n",
    "\n",
    "#Calculating the Energies of the levels for various magnetic fields to show the dependency of the B field on the seperation of the energy levels.\n",
    "#B=2\n",
    "EnO3B2=mb*B2*mjp3*x2\n",
    "EnO1B2=mb*B2*mjp1*x2\n",
    "EnO1nB2=mb*B2*mjn1*x2\n",
    "EnO3nB2=mb*B2*mjn3*x2\n",
    "\n",
    "EnlP1B2=EnO3B2*gl*x2\n",
    "EnlP2B2=EnO1B2*gl*x2\n",
    "EnlP3B2=EnO1nB2*gl*x2\n",
    "EnlP4B2=EnO3nB2*gl*x2\n",
    "\n",
    "EnlP1lineB2=EnO3B2*gl*x11\n",
    "EnlP2lineB2=EnO1B2*gl*x11\n",
    "EnlP3lineB2=EnO1nB2*gl*x11\n",
    "EnlP4lineB2=EnO3nB2*gl*x11\n",
    "\n",
    "#B=5\n",
    "EnO3B3=mb*B3*mjp3*x2\n",
    "EnO1B3=mb*B3*mjp1*x2\n",
    "EnO1nB3=mb*B3*mjn1*x2\n",
    "EnO3nB3=mb*B3*mjn3*x2\n",
    "\n",
    "EnlP1B3=EnO3B3*gl*x2\n",
    "EnlP2B3=EnO1B3*gl*x2\n",
    "EnlP3B3=EnO1nB3*gl*x2\n",
    "EnlP4B3=EnO3nB3*gl*x2\n",
    "\n",
    "EnlP1lineB3=EnO3B3*gl*x11\n",
    "EnlP2lineB3=EnO1B3*gl*x11\n",
    "EnlP3lineB3=EnO1nB3*gl*x11\n",
    "EnlP4lineB3=EnO3nB3*gl*x11\n",
    "\n",
    "#B=10\n",
    "EnO3B4=mb*B4*mjp3*x2\n",
    "EnO1B4=mb*B4*mjp1*x2\n",
    "EnO1nB4=mb*B4*mjn1*x2\n",
    "EnO3nB4=mb*B4*mjn3*x2\n",
    "\n",
    "EnlP1B4=EnO3B4*gl*x2\n",
    "EnlP2B4=EnO1B4*gl*x2\n",
    "EnlP3B4=EnO1nB4*gl*x2\n",
    "EnlP4B4=EnO3nB4*gl*x2\n",
    "\n",
    "EnlP1lineB4=EnO3B4*gl*x11\n",
    "EnlP2lineB4=EnO1B4*gl*x11\n",
    "EnlP3lineB4=EnO1nB4*gl*x11\n",
    "EnlP4lineB4=EnO3nB4*gl*x11\n",
    "\n"
   ]
  },
  {
   "cell_type": "code",
   "execution_count": 255,
   "metadata": {
    "collapsed": false,
    "deletable": true,
    "editable": true
   },
   "outputs": [
    {
     "data": {
      "text/plain": [
       "<matplotlib.legend.Legend at 0x1104f0f10>"
      ]
     },
     "execution_count": 255,
     "metadata": {},
     "output_type": "execute_result"
    },
    {
     "data": {
      "image/png": "[encoded data removed]",
      "text/plain": [
       "<matplotlib.figure.Figure at 0x10f2fae10>"
      ]
     },
     "metadata": {},
     "output_type": "display_data"
    }
   ],
   "source": [
    "#B=1\n",
    "plt.plot(x1,En,'kx')\n",
    "plt.plot(x11,EnlP1lineB1,'k')\n",
    "plt.plot(x11,EnlP2lineB1,'k')\n",
    "plt.plot(x11,EnlP3lineB1,'k')\n",
    "plt.plot(x11,EnlP4lineB1,'k')\n",
    "\n",
    "plt.plot(x2,EnlP1B1,'ko',label='B=1')\n",
    "plt.plot(x2,EnlP2B1,'ko')\n",
    "plt.plot(x2,EnlP3B1,'ko')\n",
    "plt.plot(x2,EnlP4B1,'ko')\n",
    "\n",
    "#B=1\n",
    "#plt.plot(x1,En,'kx')\n",
    "plt.plot(x11,EnlP1lineB2,'b')\n",
    "plt.plot(x11,EnlP2lineB2,'b')\n",
    "plt.plot(x11,EnlP3lineB2,'b')\n",
    "plt.plot(x11,EnlP4lineB2,'b')\n",
    "\n",
    "plt.plot(x2,EnlP1B2,'bo',label='B=1.5')\n",
    "plt.plot(x2,EnlP2B2,'bo')\n",
    "plt.plot(x2,EnlP3B2,'bo')\n",
    "plt.plot(x2,EnlP4B2,'bo')\n",
    "\n",
    "#B=1\n",
    "#plt.plot(x1,En,'kx')\n",
    "plt.plot(x11,EnlP1lineB3,'g')\n",
    "plt.plot(x11,EnlP2lineB3,'g')\n",
    "plt.plot(x11,EnlP3lineB3,'g')\n",
    "plt.plot(x11,EnlP4lineB3,'g')\n",
    "\n",
    "plt.plot(x2,EnlP1B3,'go',label='B=2')\n",
    "plt.plot(x2,EnlP2B3,'go')\n",
    "plt.plot(x2,EnlP3B3,'go')\n",
    "plt.plot(x2,EnlP4B3,'go')\n",
    "\n",
    "#B=1\n",
    "#plt.plot(x1,En,'kx')\n",
    "plt.plot(x11,EnlP1lineB4,'r')\n",
    "plt.plot(x11,EnlP2lineB4,'r')\n",
    "plt.plot(x11,EnlP3lineB4,'r')\n",
    "plt.plot(x11,EnlP4lineB4,'r')\n",
    "\n",
    "plt.plot(x2,EnlP1B4,'ro',label='B=2.5')\n",
    "plt.plot(x2,EnlP2B4,'ro')\n",
    "plt.plot(x2,EnlP3B4,'ro')\n",
    "plt.plot(x2,EnlP4B4,'ro')\n",
    "\n",
    "\n",
    "\n",
    "\n",
    "plt.ylabel('Magentic Field')\n",
    "plt.legend()\n"
   ]
  },
  {
   "cell_type": "code",
   "execution_count": null,
   "metadata": {
    "collapsed": true,
    "deletable": true,
    "editable": true
   },
   "outputs": [],
   "source": []
  },
  {
   "cell_type": "code",
   "execution_count": 66,
   "metadata": {
    "collapsed": true,
    "deletable": true,
    "editable": true
   },
   "outputs": [],
   "source": []
  }
 ],
 "metadata": {
  "kernelspec": {
   "display_name": "Python 2",
   "language": "python",
   "name": "python2"
  },
  "language_info": {
   "codemirror_mode": {
    "name": "ipython",
    "version": 2
   },
   "file_extension": ".py",
   "mimetype": "text/x-python",
   "name": "python",
   "nbconvert_exporter": "python",
   "pygments_lexer": "ipython2",
   "version": "2.7.13"
  }
 },
 "nbformat": 4,
 "nbformat_minor": 2
}
