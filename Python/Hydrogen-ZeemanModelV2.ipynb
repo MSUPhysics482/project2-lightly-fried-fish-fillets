{
 "cells": [
  {
   "cell_type": "code",
   "execution_count": 123,
   "metadata": {
    "collapsed": false
   },
   "outputs": [
    {
     "ename": "ImportError",
     "evalue": "No module named rxnlvl",
     "output_type": "error",
     "traceback": [
      "\u001b[0;31m---------------------------------------------------------------------------\u001b[0m",
      "\u001b[0;31mImportError\u001b[0m                               Traceback (most recent call last)",
      "\u001b[0;32m<ipython-input-123-2e8bf8c328d8>\u001b[0m in \u001b[0;36m<module>\u001b[0;34m()\u001b[0m\n\u001b[1;32m      5\u001b[0m \u001b[0;32mimport\u001b[0m \u001b[0msys\u001b[0m\u001b[0;34m\u001b[0m\u001b[0m\n\u001b[1;32m      6\u001b[0m \u001b[0msys\u001b[0m\u001b[0;34m.\u001b[0m\u001b[0mpath\u001b[0m\u001b[0;34m.\u001b[0m\u001b[0minsert\u001b[0m\u001b[0;34m(\u001b[0m\u001b[0;36m1\u001b[0m\u001b[0;34m,\u001b[0m\u001b[0;34m\"/Samsung SSD 250gb/Users/ericaboud/rxnlvl/rxnlvl/\"\u001b[0m\u001b[0;34m)\u001b[0m \u001b[0;31m# Change this to the full path of rxnlvl\u001b[0m\u001b[0;34m\u001b[0m\u001b[0m\n\u001b[0;32m----> 7\u001b[0;31m \u001b[0;32mfrom\u001b[0m \u001b[0mrxnlvl\u001b[0m \u001b[0;32mimport\u001b[0m \u001b[0;34m*\u001b[0m\u001b[0;34m\u001b[0m\u001b[0m\n\u001b[0m",
      "\u001b[0;31mImportError\u001b[0m: No module named rxnlvl"
     ]
    }
   ],
   "source": [
    "import matplotlib.pyplot as plt\n",
    "import numpy as np\n",
    "from numpy import math\n",
    "%matplotlib inline\n",
    "import sys\n",
    "sys.path.insert(1,\"/Samsung SSD 250gb/Users/ericaboud/rxnlvl/rxnlvl/\") # Change this to the full path of rxnlvl\n",
    "from rxnlvl import *"
   ]
  },
  {
   "cell_type": "code",
   "execution_count": 198,
   "metadata": {
    "collapsed": false
   },
   "outputs": [],
   "source": [
    "#For Now\n",
    "mb=1\n",
    "B=1\n",
    "mjp3=1.5\n",
    "mjp1=0.5\n",
    "mjn1=-0.5\n",
    "mjn3=-1.5\n",
    "\n",
    "x1=0\n",
    "x2=1\n",
    "\n",
    "x11=np.arange(0,1.1,0.1)\n"
   ]
  },
  {
   "cell_type": "code",
   "execution_count": 199,
   "metadata": {
    "collapsed": false
   },
   "outputs": [],
   "source": [
    "lp=1\n",
    "l0=0\n",
    "ln=-1\n",
    "s=0.5\n",
    "j=1.5\n",
    "\n",
    "gl=(1+(j*(j+1)-lp*(lp+1)+s*(s+1))/(2*j*(j+1)))\n",
    "\n"
   ]
  },
  {
   "cell_type": "code",
   "execution_count": 202,
   "metadata": {
    "collapsed": false
   },
   "outputs": [],
   "source": [
    "En=0\n",
    "\n",
    "EnO3=mb*B*mjp3*x2\n",
    "EnO1=mb*B*mjp1*x2\n",
    "EnO1n=mb*B*mjn1*x2\n",
    "EnO3n=mb*B*mjn3*x2\n",
    "\n",
    "\n",
    "\n",
    "EnlP1=EnO3*gl*x2\n",
    "EnlP2=EnO1*gl*x2\n",
    "EnlP3=EnO1n*gl*x2\n",
    "EnlP4=EnO3n*gl*x2\n",
    "\n",
    "EnlP1line=EnO3*gl*x11\n",
    "EnlP2line=EnO1*gl*x11\n",
    "EnlP3line=EnO1n*gl*x11\n",
    "EnlP4line=EnO3n*gl*x11\n",
    "\n"
   ]
  },
  {
   "cell_type": "code",
   "execution_count": 203,
   "metadata": {
    "collapsed": false
   },
   "outputs": [
    {
     "data": {
      "text/plain": [
       "[<matplotlib.lines.Line2D at 0x10ade4fd0>]"
      ]
     },
     "execution_count": 203,
     "metadata": {},
     "output_type": "execute_result"
    },
    {
     "data": {
      "image/png": "[encoded data removed]",
      "text/plain": [
       "<matplotlib.figure.Figure at 0x10abe7390>"
      ]
     },
     "metadata": {},
     "output_type": "display_data"
    }
   ],
   "source": [
    "plt.plot(x1,En,'x')\n",
    "plt.plot(x11,EnlP1line)\n",
    "plt.plot(x11,EnlP2line)\n",
    "plt.plot(x11,EnlP3line)\n",
    "plt.plot(x11,EnlP4line)\n",
    "\n",
    "plt.plot(x2,EnlP1,'o')\n",
    "plt.plot(x2,EnlP2,'o')\n",
    "plt.plot(x2,EnlP3,'o')\n",
    "plt.plot(x2,EnlP4,'o')\n"
   ]
  },
  {
   "cell_type": "code",
   "execution_count": null,
   "metadata": {
    "collapsed": true
   },
   "outputs": [],
   "source": []
  },
  {
   "cell_type": "code",
   "execution_count": 66,
   "metadata": {
    "collapsed": true
   },
   "outputs": [],
   "source": []
  }
 ],
 "metadata": {
  "kernelspec": {
   "display_name": "Python 2",
   "language": "python",
   "name": "python2"
  },
  "language_info": {
   "codemirror_mode": {
    "name": "ipython",
    "version": 2
   },
   "file_extension": ".py",
   "mimetype": "text/x-python",
   "name": "python",
   "nbconvert_exporter": "python",
   "pygments_lexer": "ipython2",
   "version": "2.7.13"
  }
 },
 "nbformat": 4,
 "nbformat_minor": 2
}
